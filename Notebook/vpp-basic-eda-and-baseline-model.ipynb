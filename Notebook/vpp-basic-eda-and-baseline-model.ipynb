{
 "cells": [
  {
   "attachments": {
    "4ec2e3e4-f1fd-49c1-995c-d4195b72e2fe.png": {
     "image/png": "[encoded data removed]"
    }
   },
   "cell_type": "markdown",
   "id": "74ca71a6",
   "metadata": {
    "papermill": {
     "duration": 0.039898,
     "end_time": "2021-10-02T10:26:17.745627",
     "exception": false,
     "start_time": "2021-10-02T10:26:17.705729",
     "status": "completed"
    },
    "tags": []
   },
   "source": [
    "# Overview:\n",
    "A [ventilator](https://en.wikipedia.org/wiki/Ventilator) is a machine that provides mechanical ventilation by moving breathable air into and out of the lungs, to deliver breaths to a patient who is physically unable to breathe, or breathing insufficiently. A ventilator is needed when a patient suffers [respiratory failure](https://www.nhlbi.nih.gov/health-topics/respiratory-failure). Mechanical ventilators are mainly used in hospitals and in transport systems such as ambulances and MEDEVAC air transport etc.\n",
    "\n",
    "\n",
    "Ventilator has been a key component for Covid-19 treatment. This competetion aims to simulate a ventilator connected to a sedated patient's lung. Currently ventilators are simulated using PID controllers and it is belived that a better performance can be obtained by Machine Learning. As a **Mechatronics Engineering** Student this is going to be an exciting task for me."
   ]
  },
  {
   "cell_type": "markdown",
   "id": "29d190ad",
   "metadata": {
    "papermill": {
     "duration": 0.040674,
     "end_time": "2021-10-02T10:26:17.841374",
     "exception": false,
     "start_time": "2021-10-02T10:26:17.800700",
     "status": "completed"
    },
    "tags": []
   },
   "source": [
    "# Table of Contents:\n",
    "* [Let's Know our Data](#Let's-know-our-data)\n",
    "* [Basic Trainset Info](#Basic-Trainset-info)\n",
    "* [Basic Testset Info](#Basic-Testset-info)\n",
    "* [Basic EDA](#EDA)\n",
    "* [Feature Engineering](#Feature-Engineering)\n",
    "* [Modeling](#Modeling)"
   ]
  },
  {
   "cell_type": "markdown",
   "id": "17fa59ad",
   "metadata": {
    "papermill": {
     "duration": 0.036797,
     "end_time": "2021-10-02T10:26:17.916251",
     "exception": false,
     "start_time": "2021-10-02T10:26:17.879454",
     "status": "completed"
    },
    "tags": []
   },
   "source": [
    "# Let's know our data\n",
    "\n",
    "The ventilator data used in this competition was produced using a modified open-source ventilator connected to an artificial bellows test lung via a respiratory circuit. \n",
    "The first control input is a continuous variable from 0 to 100 representing the percentage the inspiratory solenoid valve is open to let air into the lung (i.e., 0 is completely closed and no air is let in and 100 is completely open). The second control input is a binary variable representing whether the exploratory valve is open (1) or closed (0) to let air out.\n",
    "\n",
    "In this competition, we are given numerous time series of breaths and need to learn to predict the **airway pressure** in the respiratory circuit during the breath, given the time series of control inputs.\n",
    "\n",
    "**Evalution:**\n",
    "The competition will be scored as the mean absolute error between the predicted and actual pressures during the inspiratory phase of each breath. \n",
    "\n",
    "### Data Description:\n",
    "* **id** - globally-unique time step identifier across an entire file\n",
    "* **breath_id** - globally-unique time step for breaths\n",
    "* **R** - lung attribute indicating how restricted the airway is (in cmH2O/L/S). Physically, this is the change in pressure per change in flow (air volume per time). Intuitively, one can imagine blowing up a balloon through a straw. We can change R by changing the diameter of the straw, with higher R being harder to blow.\n",
    "* **C** - lung attribute indicating how compliant the lung is (in mL/cmH2O). Physically, this is the change in volume per change in pressure. Intuitively, one can imagine the same balloon example. We can change C by changing the thickness of the balloon’s latex, with higher C having thinner latex and easier to blow.\n",
    "* **time_step** - the actual time stamp.\n",
    "* **u_in** - the control input for the inspiratory solenoid valve. Ranges from 0 to 100.\n",
    "* **u_out** - the control input for the exploratory solenoid valve. Either 0 or 1.\n",
    "* **pressure** - the airway pressure measured in the respiratory circuit, measured in cmH2O."
   ]
  },
  {
   "cell_type": "code",
   "execution_count": 1,
   "id": "ddb7c997",
   "metadata": {
    "execution": {
     "iopub.execute_input": "2021-10-02T10:26:18.004065Z",
     "iopub.status.busy": "2021-10-02T10:26:18.003237Z",
     "iopub.status.idle": "2021-10-02T10:26:18.846471Z",
     "shell.execute_reply": "2021-10-02T10:26:18.845171Z",
     "shell.execute_reply.started": "2021-09-24T05:47:21.310779Z"
    },
    "papermill": {
     "duration": 0.892588,
     "end_time": "2021-10-02T10:26:18.846640",
     "exception": false,
     "start_time": "2021-10-02T10:26:17.954052",
     "status": "completed"
    },
    "tags": []
   },
   "outputs": [],
   "source": [
    "# import basic libraries\n",
    "import numpy as np\n",
    "import pandas as pd \n",
    "import matplotlib.pyplot as plt\n",
    "import seaborn as sns\n",
    "import warnings\n",
    "warnings.filterwarnings('ignore')"
   ]
  },
  {
   "cell_type": "code",
   "execution_count": 2,
   "id": "24ee93c6",
   "metadata": {
    "execution": {
     "iopub.execute_input": "2021-10-02T10:26:18.925374Z",
     "iopub.status.busy": "2021-10-02T10:26:18.924484Z",
     "iopub.status.idle": "2021-10-02T10:26:33.120993Z",
     "shell.execute_reply": "2021-10-02T10:26:33.120040Z",
     "shell.execute_reply.started": "2021-09-24T05:42:41.527808Z"
    },
    "papermill": {
     "duration": 14.237738,
     "end_time": "2021-10-02T10:26:33.121197",
     "exception": false,
     "start_time": "2021-10-02T10:26:18.883459",
     "status": "completed"
    },
    "tags": []
   },
   "outputs": [],
   "source": [
    "# datasets\n",
    "train = pd.read_csv('../input/ventilator-pressure-prediction/train.csv')\n",
    "test = pd.read_csv('../input/ventilator-pressure-prediction/test.csv')"
   ]
  },
  {
   "cell_type": "markdown",
   "id": "578ea338",
   "metadata": {
    "papermill": {
     "duration": 0.036052,
     "end_time": "2021-10-02T10:26:33.195257",
     "exception": false,
     "start_time": "2021-10-02T10:26:33.159205",
     "status": "completed"
    },
    "tags": []
   },
   "source": [
    "# Basic Trainset info"
   ]
  },
  {
   "cell_type": "code",
   "execution_count": 3,
   "id": "f9649474",
   "metadata": {
    "execution": {
     "iopub.execute_input": "2021-10-02T10:26:33.277805Z",
     "iopub.status.busy": "2021-10-02T10:26:33.277103Z",
     "iopub.status.idle": "2021-10-02T10:26:33.291805Z",
     "shell.execute_reply": "2021-10-02T10:26:33.292304Z",
     "shell.execute_reply.started": "2021-09-24T05:42:56.018767Z"
    },
    "papermill": {
     "duration": 0.059643,
     "end_time": "2021-10-02T10:26:33.292481",
     "exception": false,
     "start_time": "2021-10-02T10:26:33.232838",
     "status": "completed"
    },
    "tags": []
   },
   "outputs": [
    {
     "data": {
      "text/html": [
       "<div>\n",
       "<style scoped>\n",
       "    .dataframe tbody tr th:only-of-type {\n",
       "        vertical-align: middle;\n",
       "    }\n",
       "\n",
       "    .dataframe tbody tr th {\n",
       "        vertical-align: top;\n",
       "    }\n",
       "\n",
       "    .dataframe thead th {\n",
       "        text-align: right;\n",
       "    }\n",
       "</style>\n",
       "<table border=\"1\" class=\"dataframe\">\n",
       "  <thead>\n",
       "    <tr style=\"text-align: right;\">\n",
       "      <th></th>\n",
       "      <th>id</th>\n",
       "      <th>breath_id</th>\n",
       "      <th>R</th>\n",
       "      <th>C</th>\n",
       "      <th>time_step</th>\n",
       "      <th>u_in</th>\n",
       "      <th>u_out</th>\n",
       "      <th>pressure</th>\n",
       "    </tr>\n",
       "  </thead>\n",
       "  <tbody>\n",
       "    <tr>\n",
       "      <th>0</th>\n",
       "      <td>1</td>\n",
       "      <td>1</td>\n",
       "      <td>20</td>\n",
       "      <td>50</td>\n",
       "      <td>0.000000</td>\n",
       "      <td>0.083334</td>\n",
       "      <td>0</td>\n",
       "      <td>5.837492</td>\n",
       "    </tr>\n",
       "    <tr>\n",
       "      <th>1</th>\n",
       "      <td>2</td>\n",
       "      <td>1</td>\n",
       "      <td>20</td>\n",
       "      <td>50</td>\n",
       "      <td>0.033652</td>\n",
       "      <td>18.383041</td>\n",
       "      <td>0</td>\n",
       "      <td>5.907794</td>\n",
       "    </tr>\n",
       "    <tr>\n",
       "      <th>2</th>\n",
       "      <td>3</td>\n",
       "      <td>1</td>\n",
       "      <td>20</td>\n",
       "      <td>50</td>\n",
       "      <td>0.067514</td>\n",
       "      <td>22.509278</td>\n",
       "      <td>0</td>\n",
       "      <td>7.876254</td>\n",
       "    </tr>\n",
       "    <tr>\n",
       "      <th>3</th>\n",
       "      <td>4</td>\n",
       "      <td>1</td>\n",
       "      <td>20</td>\n",
       "      <td>50</td>\n",
       "      <td>0.101542</td>\n",
       "      <td>22.808822</td>\n",
       "      <td>0</td>\n",
       "      <td>11.742872</td>\n",
       "    </tr>\n",
       "    <tr>\n",
       "      <th>4</th>\n",
       "      <td>5</td>\n",
       "      <td>1</td>\n",
       "      <td>20</td>\n",
       "      <td>50</td>\n",
       "      <td>0.135756</td>\n",
       "      <td>25.355850</td>\n",
       "      <td>0</td>\n",
       "      <td>12.234987</td>\n",
       "    </tr>\n",
       "  </tbody>\n",
       "</table>\n",
       "</div>"
      ],
      "text/plain": [
       "   id  breath_id   R   C  time_step       u_in  u_out   pressure\n",
       "0   1          1  20  50   0.000000   0.083334      0   5.837492\n",
       "1   2          1  20  50   0.033652  18.383041      0   5.907794\n",
       "2   3          1  20  50   0.067514  22.509278      0   7.876254\n",
       "3   4          1  20  50   0.101542  22.808822      0  11.742872\n",
       "4   5          1  20  50   0.135756  25.355850      0  12.234987"
      ]
     },
     "execution_count": 3,
     "metadata": {},
     "output_type": "execute_result"
    }
   ],
   "source": [
    "train.head()"
   ]
  },
  {
   "cell_type": "code",
   "execution_count": 4,
   "id": "ac1e6272",
   "metadata": {
    "execution": {
     "iopub.execute_input": "2021-10-02T10:26:33.368890Z",
     "iopub.status.busy": "2021-10-02T10:26:33.368265Z",
     "iopub.status.idle": "2021-10-02T10:26:33.380088Z",
     "shell.execute_reply": "2021-10-02T10:26:33.379582Z",
     "shell.execute_reply.started": "2021-09-24T05:42:56.042368Z"
    },
    "papermill": {
     "duration": 0.050752,
     "end_time": "2021-10-02T10:26:33.380247",
     "exception": false,
     "start_time": "2021-10-02T10:26:33.329495",
     "status": "completed"
    },
    "tags": []
   },
   "outputs": [
    {
     "data": {
      "text/html": [
       "<div>\n",
       "<style scoped>\n",
       "    .dataframe tbody tr th:only-of-type {\n",
       "        vertical-align: middle;\n",
       "    }\n",
       "\n",
       "    .dataframe tbody tr th {\n",
       "        vertical-align: top;\n",
       "    }\n",
       "\n",
       "    .dataframe thead th {\n",
       "        text-align: right;\n",
       "    }\n",
       "</style>\n",
       "<table border=\"1\" class=\"dataframe\">\n",
       "  <thead>\n",
       "    <tr style=\"text-align: right;\">\n",
       "      <th></th>\n",
       "      <th>id</th>\n",
       "      <th>breath_id</th>\n",
       "      <th>R</th>\n",
       "      <th>C</th>\n",
       "      <th>time_step</th>\n",
       "      <th>u_in</th>\n",
       "      <th>u_out</th>\n",
       "      <th>pressure</th>\n",
       "    </tr>\n",
       "  </thead>\n",
       "  <tbody>\n",
       "    <tr>\n",
       "      <th>6035995</th>\n",
       "      <td>6035996</td>\n",
       "      <td>125749</td>\n",
       "      <td>50</td>\n",
       "      <td>10</td>\n",
       "      <td>2.504603</td>\n",
       "      <td>1.489714</td>\n",
       "      <td>1</td>\n",
       "      <td>3.869032</td>\n",
       "    </tr>\n",
       "    <tr>\n",
       "      <th>6035996</th>\n",
       "      <td>6035997</td>\n",
       "      <td>125749</td>\n",
       "      <td>50</td>\n",
       "      <td>10</td>\n",
       "      <td>2.537961</td>\n",
       "      <td>1.488497</td>\n",
       "      <td>1</td>\n",
       "      <td>3.869032</td>\n",
       "    </tr>\n",
       "    <tr>\n",
       "      <th>6035997</th>\n",
       "      <td>6035998</td>\n",
       "      <td>125749</td>\n",
       "      <td>50</td>\n",
       "      <td>10</td>\n",
       "      <td>2.571408</td>\n",
       "      <td>1.558978</td>\n",
       "      <td>1</td>\n",
       "      <td>3.798729</td>\n",
       "    </tr>\n",
       "    <tr>\n",
       "      <th>6035998</th>\n",
       "      <td>6035999</td>\n",
       "      <td>125749</td>\n",
       "      <td>50</td>\n",
       "      <td>10</td>\n",
       "      <td>2.604744</td>\n",
       "      <td>1.272663</td>\n",
       "      <td>1</td>\n",
       "      <td>4.079938</td>\n",
       "    </tr>\n",
       "    <tr>\n",
       "      <th>6035999</th>\n",
       "      <td>6036000</td>\n",
       "      <td>125749</td>\n",
       "      <td>50</td>\n",
       "      <td>10</td>\n",
       "      <td>2.638017</td>\n",
       "      <td>1.482739</td>\n",
       "      <td>1</td>\n",
       "      <td>3.869032</td>\n",
       "    </tr>\n",
       "  </tbody>\n",
       "</table>\n",
       "</div>"
      ],
      "text/plain": [
       "              id  breath_id   R   C  time_step      u_in  u_out  pressure\n",
       "6035995  6035996     125749  50  10   2.504603  1.489714      1  3.869032\n",
       "6035996  6035997     125749  50  10   2.537961  1.488497      1  3.869032\n",
       "6035997  6035998     125749  50  10   2.571408  1.558978      1  3.798729\n",
       "6035998  6035999     125749  50  10   2.604744  1.272663      1  4.079938\n",
       "6035999  6036000     125749  50  10   2.638017  1.482739      1  3.869032"
      ]
     },
     "execution_count": 4,
     "metadata": {},
     "output_type": "execute_result"
    }
   ],
   "source": [
    "train.tail()"
   ]
  },
  {
   "cell_type": "code",
   "execution_count": 5,
   "id": "67927dd2",
   "metadata": {
    "execution": {
     "iopub.execute_input": "2021-10-02T10:26:33.456858Z",
     "iopub.status.busy": "2021-10-02T10:26:33.456254Z",
     "iopub.status.idle": "2021-10-02T10:26:33.460500Z",
     "shell.execute_reply": "2021-10-02T10:26:33.461047Z",
     "shell.execute_reply.started": "2021-09-24T05:42:56.057074Z"
    },
    "papermill": {
     "duration": 0.04441,
     "end_time": "2021-10-02T10:26:33.461263",
     "exception": false,
     "start_time": "2021-10-02T10:26:33.416853",
     "status": "completed"
    },
    "tags": []
   },
   "outputs": [
    {
     "data": {
      "text/plain": [
       "(6036000, 8)"
      ]
     },
     "execution_count": 5,
     "metadata": {},
     "output_type": "execute_result"
    }
   ],
   "source": [
    "train.shape"
   ]
  },
  {
   "cell_type": "code",
   "execution_count": 6,
   "id": "52984c5e",
   "metadata": {
    "execution": {
     "iopub.execute_input": "2021-10-02T10:26:33.538836Z",
     "iopub.status.busy": "2021-10-02T10:26:33.538208Z",
     "iopub.status.idle": "2021-10-02T10:26:33.557838Z",
     "shell.execute_reply": "2021-10-02T10:26:33.556957Z",
     "shell.execute_reply.started": "2021-09-24T05:42:56.070242Z"
    },
    "papermill": {
     "duration": 0.059812,
     "end_time": "2021-10-02T10:26:33.558073",
     "exception": false,
     "start_time": "2021-10-02T10:26:33.498261",
     "status": "completed"
    },
    "tags": []
   },
   "outputs": [
    {
     "name": "stdout",
     "output_type": "stream",
     "text": [
      "<class 'pandas.core.frame.DataFrame'>\n",
      "RangeIndex: 6036000 entries, 0 to 6035999\n",
      "Data columns (total 8 columns):\n",
      " #   Column     Dtype  \n",
      "---  ------     -----  \n",
      " 0   id         int64  \n",
      " 1   breath_id  int64  \n",
      " 2   R          int64  \n",
      " 3   C          int64  \n",
      " 4   time_step  float64\n",
      " 5   u_in       float64\n",
      " 6   u_out      int64  \n",
      " 7   pressure   float64\n",
      "dtypes: float64(3), int64(5)\n",
      "memory usage: 368.4 MB\n"
     ]
    }
   ],
   "source": [
    "# a concise summary of a DataFrame.\n",
    "train.info()"
   ]
  },
  {
   "cell_type": "code",
   "execution_count": 7,
   "id": "d0be867e",
   "metadata": {
    "execution": {
     "iopub.execute_input": "2021-10-02T10:26:33.637289Z",
     "iopub.status.busy": "2021-10-02T10:26:33.636628Z",
     "iopub.status.idle": "2021-10-02T10:26:34.948563Z",
     "shell.execute_reply": "2021-10-02T10:26:34.947876Z",
     "shell.execute_reply.started": "2021-09-24T05:42:56.097847Z"
    },
    "papermill": {
     "duration": 1.351848,
     "end_time": "2021-10-02T10:26:34.948711",
     "exception": false,
     "start_time": "2021-10-02T10:26:33.596863",
     "status": "completed"
    },
    "tags": []
   },
   "outputs": [
    {
     "data": {
      "text/html": [
       "<div>\n",
       "<style scoped>\n",
       "    .dataframe tbody tr th:only-of-type {\n",
       "        vertical-align: middle;\n",
       "    }\n",
       "\n",
       "    .dataframe tbody tr th {\n",
       "        vertical-align: top;\n",
       "    }\n",
       "\n",
       "    .dataframe thead th {\n",
       "        text-align: right;\n",
       "    }\n",
       "</style>\n",
       "<table border=\"1\" class=\"dataframe\">\n",
       "  <thead>\n",
       "    <tr style=\"text-align: right;\">\n",
       "      <th></th>\n",
       "      <th>id</th>\n",
       "      <th>breath_id</th>\n",
       "      <th>R</th>\n",
       "      <th>C</th>\n",
       "      <th>time_step</th>\n",
       "      <th>u_in</th>\n",
       "      <th>u_out</th>\n",
       "      <th>pressure</th>\n",
       "    </tr>\n",
       "  </thead>\n",
       "  <tbody>\n",
       "    <tr>\n",
       "      <th>count</th>\n",
       "      <td>6.036000e+06</td>\n",
       "      <td>6.036000e+06</td>\n",
       "      <td>6.036000e+06</td>\n",
       "      <td>6.036000e+06</td>\n",
       "      <td>6.036000e+06</td>\n",
       "      <td>6.036000e+06</td>\n",
       "      <td>6.036000e+06</td>\n",
       "      <td>6.036000e+06</td>\n",
       "    </tr>\n",
       "    <tr>\n",
       "      <th>mean</th>\n",
       "      <td>3.018000e+06</td>\n",
       "      <td>6.283886e+04</td>\n",
       "      <td>2.703618e+01</td>\n",
       "      <td>2.608072e+01</td>\n",
       "      <td>1.307225e+00</td>\n",
       "      <td>7.321615e+00</td>\n",
       "      <td>6.204493e-01</td>\n",
       "      <td>1.122041e+01</td>\n",
       "    </tr>\n",
       "    <tr>\n",
       "      <th>std</th>\n",
       "      <td>1.742443e+06</td>\n",
       "      <td>3.633526e+04</td>\n",
       "      <td>1.959549e+01</td>\n",
       "      <td>1.715231e+01</td>\n",
       "      <td>7.659778e-01</td>\n",
       "      <td>1.343470e+01</td>\n",
       "      <td>4.852752e-01</td>\n",
       "      <td>8.109703e+00</td>\n",
       "    </tr>\n",
       "    <tr>\n",
       "      <th>min</th>\n",
       "      <td>1.000000e+00</td>\n",
       "      <td>1.000000e+00</td>\n",
       "      <td>5.000000e+00</td>\n",
       "      <td>1.000000e+01</td>\n",
       "      <td>0.000000e+00</td>\n",
       "      <td>0.000000e+00</td>\n",
       "      <td>0.000000e+00</td>\n",
       "      <td>-1.895744e+00</td>\n",
       "    </tr>\n",
       "    <tr>\n",
       "      <th>25%</th>\n",
       "      <td>1.509001e+06</td>\n",
       "      <td>3.137700e+04</td>\n",
       "      <td>5.000000e+00</td>\n",
       "      <td>1.000000e+01</td>\n",
       "      <td>6.428995e-01</td>\n",
       "      <td>3.936623e-01</td>\n",
       "      <td>0.000000e+00</td>\n",
       "      <td>6.329607e+00</td>\n",
       "    </tr>\n",
       "    <tr>\n",
       "      <th>50%</th>\n",
       "      <td>3.018000e+06</td>\n",
       "      <td>6.276550e+04</td>\n",
       "      <td>2.000000e+01</td>\n",
       "      <td>2.000000e+01</td>\n",
       "      <td>1.308123e+00</td>\n",
       "      <td>4.386146e+00</td>\n",
       "      <td>1.000000e+00</td>\n",
       "      <td>7.032628e+00</td>\n",
       "    </tr>\n",
       "    <tr>\n",
       "      <th>75%</th>\n",
       "      <td>4.527000e+06</td>\n",
       "      <td>9.430100e+04</td>\n",
       "      <td>5.000000e+01</td>\n",
       "      <td>5.000000e+01</td>\n",
       "      <td>1.965502e+00</td>\n",
       "      <td>4.983895e+00</td>\n",
       "      <td>1.000000e+00</td>\n",
       "      <td>1.364103e+01</td>\n",
       "    </tr>\n",
       "    <tr>\n",
       "      <th>max</th>\n",
       "      <td>6.036000e+06</td>\n",
       "      <td>1.257490e+05</td>\n",
       "      <td>5.000000e+01</td>\n",
       "      <td>5.000000e+01</td>\n",
       "      <td>2.937238e+00</td>\n",
       "      <td>1.000000e+02</td>\n",
       "      <td>1.000000e+00</td>\n",
       "      <td>6.482099e+01</td>\n",
       "    </tr>\n",
       "  </tbody>\n",
       "</table>\n",
       "</div>"
      ],
      "text/plain": [
       "                 id     breath_id             R             C     time_step  \\\n",
       "count  6.036000e+06  6.036000e+06  6.036000e+06  6.036000e+06  6.036000e+06   \n",
       "mean   3.018000e+06  6.283886e+04  2.703618e+01  2.608072e+01  1.307225e+00   \n",
       "std    1.742443e+06  3.633526e+04  1.959549e+01  1.715231e+01  7.659778e-01   \n",
       "min    1.000000e+00  1.000000e+00  5.000000e+00  1.000000e+01  0.000000e+00   \n",
       "25%    1.509001e+06  3.137700e+04  5.000000e+00  1.000000e+01  6.428995e-01   \n",
       "50%    3.018000e+06  6.276550e+04  2.000000e+01  2.000000e+01  1.308123e+00   \n",
       "75%    4.527000e+06  9.430100e+04  5.000000e+01  5.000000e+01  1.965502e+00   \n",
       "max    6.036000e+06  1.257490e+05  5.000000e+01  5.000000e+01  2.937238e+00   \n",
       "\n",
       "               u_in         u_out      pressure  \n",
       "count  6.036000e+06  6.036000e+06  6.036000e+06  \n",
       "mean   7.321615e+00  6.204493e-01  1.122041e+01  \n",
       "std    1.343470e+01  4.852752e-01  8.109703e+00  \n",
       "min    0.000000e+00  0.000000e+00 -1.895744e+00  \n",
       "25%    3.936623e-01  0.000000e+00  6.329607e+00  \n",
       "50%    4.386146e+00  1.000000e+00  7.032628e+00  \n",
       "75%    4.983895e+00  1.000000e+00  1.364103e+01  \n",
       "max    1.000000e+02  1.000000e+00  6.482099e+01  "
      ]
     },
     "execution_count": 7,
     "metadata": {},
     "output_type": "execute_result"
    }
   ],
   "source": [
    "# Generate descriptive statistics of the dataset\n",
    "train.describe()"
   ]
  },
  {
   "cell_type": "code",
   "execution_count": 8,
   "id": "8a68a6cc",
   "metadata": {
    "execution": {
     "iopub.execute_input": "2021-10-02T10:26:35.030354Z",
     "iopub.status.busy": "2021-10-02T10:26:35.029680Z",
     "iopub.status.idle": "2021-10-02T10:26:35.113334Z",
     "shell.execute_reply": "2021-10-02T10:26:35.113828Z",
     "shell.execute_reply.started": "2021-09-24T05:42:57.416714Z"
    },
    "papermill": {
     "duration": 0.126146,
     "end_time": "2021-10-02T10:26:35.113998",
     "exception": false,
     "start_time": "2021-10-02T10:26:34.987852",
     "status": "completed"
    },
    "tags": []
   },
   "outputs": [
    {
     "data": {
      "text/plain": [
       "id           0\n",
       "breath_id    0\n",
       "R            0\n",
       "C            0\n",
       "time_step    0\n",
       "u_in         0\n",
       "u_out        0\n",
       "pressure     0\n",
       "dtype: int64"
      ]
     },
     "execution_count": 8,
     "metadata": {},
     "output_type": "execute_result"
    }
   ],
   "source": [
    "# checking null values\n",
    "train.isna().sum()"
   ]
  },
  {
   "cell_type": "code",
   "execution_count": 9,
   "id": "4c13d368",
   "metadata": {
    "execution": {
     "iopub.execute_input": "2021-10-02T10:26:35.195452Z",
     "iopub.status.busy": "2021-10-02T10:26:35.194824Z",
     "iopub.status.idle": "2021-10-02T10:26:37.785381Z",
     "shell.execute_reply": "2021-10-02T10:26:37.784820Z",
     "shell.execute_reply.started": "2021-09-24T05:42:57.505807Z"
    },
    "papermill": {
     "duration": 2.632451,
     "end_time": "2021-10-02T10:26:37.785537",
     "exception": false,
     "start_time": "2021-10-02T10:26:35.153086",
     "status": "completed"
    },
    "tags": []
   },
   "outputs": [
    {
     "data": {
      "text/html": [
       "<div>\n",
       "<style scoped>\n",
       "    .dataframe tbody tr th:only-of-type {\n",
       "        vertical-align: middle;\n",
       "    }\n",
       "\n",
       "    .dataframe tbody tr th {\n",
       "        vertical-align: top;\n",
       "    }\n",
       "\n",
       "    .dataframe thead th {\n",
       "        text-align: right;\n",
       "    }\n",
       "</style>\n",
       "<table border=\"1\" class=\"dataframe\">\n",
       "  <thead>\n",
       "    <tr style=\"text-align: right;\">\n",
       "      <th></th>\n",
       "      <th>0</th>\n",
       "    </tr>\n",
       "  </thead>\n",
       "  <tbody>\n",
       "    <tr>\n",
       "      <th>id</th>\n",
       "      <td>6036000</td>\n",
       "    </tr>\n",
       "    <tr>\n",
       "      <th>breath_id</th>\n",
       "      <td>75450</td>\n",
       "    </tr>\n",
       "    <tr>\n",
       "      <th>R</th>\n",
       "      <td>3</td>\n",
       "    </tr>\n",
       "    <tr>\n",
       "      <th>C</th>\n",
       "      <td>3</td>\n",
       "    </tr>\n",
       "    <tr>\n",
       "      <th>time_step</th>\n",
       "      <td>3767571</td>\n",
       "    </tr>\n",
       "    <tr>\n",
       "      <th>u_in</th>\n",
       "      <td>4020300</td>\n",
       "    </tr>\n",
       "    <tr>\n",
       "      <th>u_out</th>\n",
       "      <td>2</td>\n",
       "    </tr>\n",
       "    <tr>\n",
       "      <th>pressure</th>\n",
       "      <td>950</td>\n",
       "    </tr>\n",
       "  </tbody>\n",
       "</table>\n",
       "</div>"
      ],
      "text/plain": [
       "                 0\n",
       "id         6036000\n",
       "breath_id    75450\n",
       "R                3\n",
       "C                3\n",
       "time_step  3767571\n",
       "u_in       4020300\n",
       "u_out            2\n",
       "pressure       950"
      ]
     },
     "execution_count": 9,
     "metadata": {},
     "output_type": "execute_result"
    }
   ],
   "source": [
    "train.nunique().to_frame()"
   ]
  },
  {
   "cell_type": "markdown",
   "id": "2ca36550",
   "metadata": {
    "papermill": {
     "duration": 0.040019,
     "end_time": "2021-10-02T10:26:37.866054",
     "exception": false,
     "start_time": "2021-10-02T10:26:37.826035",
     "status": "completed"
    },
    "tags": []
   },
   "source": [
    "# Basic Testset info"
   ]
  },
  {
   "cell_type": "code",
   "execution_count": 10,
   "id": "6266fb9c",
   "metadata": {
    "execution": {
     "iopub.execute_input": "2021-10-02T10:26:37.960183Z",
     "iopub.status.busy": "2021-10-02T10:26:37.959378Z",
     "iopub.status.idle": "2021-10-02T10:26:37.963212Z",
     "shell.execute_reply": "2021-10-02T10:26:37.963693Z",
     "shell.execute_reply.started": "2021-09-24T05:43:20.62264Z"
    },
    "papermill": {
     "duration": 0.056775,
     "end_time": "2021-10-02T10:26:37.963872",
     "exception": false,
     "start_time": "2021-10-02T10:26:37.907097",
     "status": "completed"
    },
    "tags": []
   },
   "outputs": [
    {
     "data": {
      "text/html": [
       "<div>\n",
       "<style scoped>\n",
       "    .dataframe tbody tr th:only-of-type {\n",
       "        vertical-align: middle;\n",
       "    }\n",
       "\n",
       "    .dataframe tbody tr th {\n",
       "        vertical-align: top;\n",
       "    }\n",
       "\n",
       "    .dataframe thead th {\n",
       "        text-align: right;\n",
       "    }\n",
       "</style>\n",
       "<table border=\"1\" class=\"dataframe\">\n",
       "  <thead>\n",
       "    <tr style=\"text-align: right;\">\n",
       "      <th></th>\n",
       "      <th>id</th>\n",
       "      <th>breath_id</th>\n",
       "      <th>R</th>\n",
       "      <th>C</th>\n",
       "      <th>time_step</th>\n",
       "      <th>u_in</th>\n",
       "      <th>u_out</th>\n",
       "    </tr>\n",
       "  </thead>\n",
       "  <tbody>\n",
       "    <tr>\n",
       "      <th>0</th>\n",
       "      <td>1</td>\n",
       "      <td>0</td>\n",
       "      <td>5</td>\n",
       "      <td>20</td>\n",
       "      <td>0.000000</td>\n",
       "      <td>0.000000</td>\n",
       "      <td>0</td>\n",
       "    </tr>\n",
       "    <tr>\n",
       "      <th>1</th>\n",
       "      <td>2</td>\n",
       "      <td>0</td>\n",
       "      <td>5</td>\n",
       "      <td>20</td>\n",
       "      <td>0.031904</td>\n",
       "      <td>7.515046</td>\n",
       "      <td>0</td>\n",
       "    </tr>\n",
       "    <tr>\n",
       "      <th>2</th>\n",
       "      <td>3</td>\n",
       "      <td>0</td>\n",
       "      <td>5</td>\n",
       "      <td>20</td>\n",
       "      <td>0.063827</td>\n",
       "      <td>14.651675</td>\n",
       "      <td>0</td>\n",
       "    </tr>\n",
       "    <tr>\n",
       "      <th>3</th>\n",
       "      <td>4</td>\n",
       "      <td>0</td>\n",
       "      <td>5</td>\n",
       "      <td>20</td>\n",
       "      <td>0.095751</td>\n",
       "      <td>21.230610</td>\n",
       "      <td>0</td>\n",
       "    </tr>\n",
       "    <tr>\n",
       "      <th>4</th>\n",
       "      <td>5</td>\n",
       "      <td>0</td>\n",
       "      <td>5</td>\n",
       "      <td>20</td>\n",
       "      <td>0.127644</td>\n",
       "      <td>26.320956</td>\n",
       "      <td>0</td>\n",
       "    </tr>\n",
       "  </tbody>\n",
       "</table>\n",
       "</div>"
      ],
      "text/plain": [
       "   id  breath_id  R   C  time_step       u_in  u_out\n",
       "0   1          0  5  20   0.000000   0.000000      0\n",
       "1   2          0  5  20   0.031904   7.515046      0\n",
       "2   3          0  5  20   0.063827  14.651675      0\n",
       "3   4          0  5  20   0.095751  21.230610      0\n",
       "4   5          0  5  20   0.127644  26.320956      0"
      ]
     },
     "execution_count": 10,
     "metadata": {},
     "output_type": "execute_result"
    }
   ],
   "source": [
    "test.head()"
   ]
  },
  {
   "cell_type": "code",
   "execution_count": 11,
   "id": "ab9b2f76",
   "metadata": {
    "execution": {
     "iopub.execute_input": "2021-10-02T10:26:38.055739Z",
     "iopub.status.busy": "2021-10-02T10:26:38.054909Z",
     "iopub.status.idle": "2021-10-02T10:26:38.058265Z",
     "shell.execute_reply": "2021-10-02T10:26:38.058751Z",
     "shell.execute_reply.started": "2021-09-24T05:43:20.77094Z"
    },
    "papermill": {
     "duration": 0.054945,
     "end_time": "2021-10-02T10:26:38.058920",
     "exception": false,
     "start_time": "2021-10-02T10:26:38.003975",
     "status": "completed"
    },
    "tags": []
   },
   "outputs": [
    {
     "data": {
      "text/html": [
       "<div>\n",
       "<style scoped>\n",
       "    .dataframe tbody tr th:only-of-type {\n",
       "        vertical-align: middle;\n",
       "    }\n",
       "\n",
       "    .dataframe tbody tr th {\n",
       "        vertical-align: top;\n",
       "    }\n",
       "\n",
       "    .dataframe thead th {\n",
       "        text-align: right;\n",
       "    }\n",
       "</style>\n",
       "<table border=\"1\" class=\"dataframe\">\n",
       "  <thead>\n",
       "    <tr style=\"text-align: right;\">\n",
       "      <th></th>\n",
       "      <th>id</th>\n",
       "      <th>breath_id</th>\n",
       "      <th>R</th>\n",
       "      <th>C</th>\n",
       "      <th>time_step</th>\n",
       "      <th>u_in</th>\n",
       "      <th>u_out</th>\n",
       "    </tr>\n",
       "  </thead>\n",
       "  <tbody>\n",
       "    <tr>\n",
       "      <th>4023995</th>\n",
       "      <td>4023996</td>\n",
       "      <td>125748</td>\n",
       "      <td>20</td>\n",
       "      <td>10</td>\n",
       "      <td>2.530117</td>\n",
       "      <td>4.971245</td>\n",
       "      <td>1</td>\n",
       "    </tr>\n",
       "    <tr>\n",
       "      <th>4023996</th>\n",
       "      <td>4023997</td>\n",
       "      <td>125748</td>\n",
       "      <td>20</td>\n",
       "      <td>10</td>\n",
       "      <td>2.563853</td>\n",
       "      <td>4.975709</td>\n",
       "      <td>1</td>\n",
       "    </tr>\n",
       "    <tr>\n",
       "      <th>4023997</th>\n",
       "      <td>4023998</td>\n",
       "      <td>125748</td>\n",
       "      <td>20</td>\n",
       "      <td>10</td>\n",
       "      <td>2.597475</td>\n",
       "      <td>4.979468</td>\n",
       "      <td>1</td>\n",
       "    </tr>\n",
       "    <tr>\n",
       "      <th>4023998</th>\n",
       "      <td>4023999</td>\n",
       "      <td>125748</td>\n",
       "      <td>20</td>\n",
       "      <td>10</td>\n",
       "      <td>2.631134</td>\n",
       "      <td>4.982648</td>\n",
       "      <td>1</td>\n",
       "    </tr>\n",
       "    <tr>\n",
       "      <th>4023999</th>\n",
       "      <td>4024000</td>\n",
       "      <td>125748</td>\n",
       "      <td>20</td>\n",
       "      <td>10</td>\n",
       "      <td>2.665301</td>\n",
       "      <td>4.985373</td>\n",
       "      <td>1</td>\n",
       "    </tr>\n",
       "  </tbody>\n",
       "</table>\n",
       "</div>"
      ],
      "text/plain": [
       "              id  breath_id   R   C  time_step      u_in  u_out\n",
       "4023995  4023996     125748  20  10   2.530117  4.971245      1\n",
       "4023996  4023997     125748  20  10   2.563853  4.975709      1\n",
       "4023997  4023998     125748  20  10   2.597475  4.979468      1\n",
       "4023998  4023999     125748  20  10   2.631134  4.982648      1\n",
       "4023999  4024000     125748  20  10   2.665301  4.985373      1"
      ]
     },
     "execution_count": 11,
     "metadata": {},
     "output_type": "execute_result"
    }
   ],
   "source": [
    "test.tail()"
   ]
  },
  {
   "cell_type": "code",
   "execution_count": 12,
   "id": "856ddcbd",
   "metadata": {
    "execution": {
     "iopub.execute_input": "2021-10-02T10:26:38.147396Z",
     "iopub.status.busy": "2021-10-02T10:26:38.146708Z",
     "iopub.status.idle": "2021-10-02T10:26:38.149504Z",
     "shell.execute_reply": "2021-10-02T10:26:38.149989Z",
     "shell.execute_reply.started": "2021-09-24T05:43:20.923456Z"
    },
    "papermill": {
     "duration": 0.049664,
     "end_time": "2021-10-02T10:26:38.150189",
     "exception": false,
     "start_time": "2021-10-02T10:26:38.100525",
     "status": "completed"
    },
    "tags": []
   },
   "outputs": [
    {
     "data": {
      "text/plain": [
       "(4024000, 7)"
      ]
     },
     "execution_count": 12,
     "metadata": {},
     "output_type": "execute_result"
    }
   ],
   "source": [
    "test.shape"
   ]
  },
  {
   "cell_type": "code",
   "execution_count": 13,
   "id": "602db93e",
   "metadata": {
    "execution": {
     "iopub.execute_input": "2021-10-02T10:26:38.236081Z",
     "iopub.status.busy": "2021-10-02T10:26:38.235420Z",
     "iopub.status.idle": "2021-10-02T10:26:38.246782Z",
     "shell.execute_reply": "2021-10-02T10:26:38.245694Z",
     "shell.execute_reply.started": "2021-09-24T05:43:21.089884Z"
    },
    "papermill": {
     "duration": 0.056026,
     "end_time": "2021-10-02T10:26:38.247053",
     "exception": false,
     "start_time": "2021-10-02T10:26:38.191027",
     "status": "completed"
    },
    "tags": []
   },
   "outputs": [
    {
     "name": "stdout",
     "output_type": "stream",
     "text": [
      "<class 'pandas.core.frame.DataFrame'>\n",
      "RangeIndex: 4024000 entries, 0 to 4023999\n",
      "Data columns (total 7 columns):\n",
      " #   Column     Dtype  \n",
      "---  ------     -----  \n",
      " 0   id         int64  \n",
      " 1   breath_id  int64  \n",
      " 2   R          int64  \n",
      " 3   C          int64  \n",
      " 4   time_step  float64\n",
      " 5   u_in       float64\n",
      " 6   u_out      int64  \n",
      "dtypes: float64(2), int64(5)\n",
      "memory usage: 214.9 MB\n"
     ]
    }
   ],
   "source": [
    "test.info()"
   ]
  },
  {
   "cell_type": "code",
   "execution_count": 14,
   "id": "b7d8bca9",
   "metadata": {
    "execution": {
     "iopub.execute_input": "2021-10-02T10:26:38.389778Z",
     "iopub.status.busy": "2021-10-02T10:26:38.332535Z",
     "iopub.status.idle": "2021-10-02T10:26:39.096050Z",
     "shell.execute_reply": "2021-10-02T10:26:39.096559Z",
     "shell.execute_reply.started": "2021-09-24T05:43:21.24953Z"
    },
    "papermill": {
     "duration": 0.807874,
     "end_time": "2021-10-02T10:26:39.096749",
     "exception": false,
     "start_time": "2021-10-02T10:26:38.288875",
     "status": "completed"
    },
    "tags": []
   },
   "outputs": [
    {
     "data": {
      "text/html": [
       "<div>\n",
       "<style scoped>\n",
       "    .dataframe tbody tr th:only-of-type {\n",
       "        vertical-align: middle;\n",
       "    }\n",
       "\n",
       "    .dataframe tbody tr th {\n",
       "        vertical-align: top;\n",
       "    }\n",
       "\n",
       "    .dataframe thead th {\n",
       "        text-align: right;\n",
       "    }\n",
       "</style>\n",
       "<table border=\"1\" class=\"dataframe\">\n",
       "  <thead>\n",
       "    <tr style=\"text-align: right;\">\n",
       "      <th></th>\n",
       "      <th>id</th>\n",
       "      <th>breath_id</th>\n",
       "      <th>R</th>\n",
       "      <th>C</th>\n",
       "      <th>time_step</th>\n",
       "      <th>u_in</th>\n",
       "      <th>u_out</th>\n",
       "    </tr>\n",
       "  </thead>\n",
       "  <tbody>\n",
       "    <tr>\n",
       "      <th>count</th>\n",
       "      <td>4.024000e+06</td>\n",
       "      <td>4.024000e+06</td>\n",
       "      <td>4.024000e+06</td>\n",
       "      <td>4.024000e+06</td>\n",
       "      <td>4.024000e+06</td>\n",
       "      <td>4.024000e+06</td>\n",
       "      <td>4.024000e+06</td>\n",
       "    </tr>\n",
       "    <tr>\n",
       "      <th>mean</th>\n",
       "      <td>2.012000e+06</td>\n",
       "      <td>6.292796e+04</td>\n",
       "      <td>2.710785e+01</td>\n",
       "      <td>2.607038e+01</td>\n",
       "      <td>1.307083e+00</td>\n",
       "      <td>7.338098e+00</td>\n",
       "      <td>6.203864e-01</td>\n",
       "    </tr>\n",
       "    <tr>\n",
       "      <th>std</th>\n",
       "      <td>1.161629e+06</td>\n",
       "      <td>3.624924e+04</td>\n",
       "      <td>1.954281e+01</td>\n",
       "      <td>1.717103e+01</td>\n",
       "      <td>7.658902e-01</td>\n",
       "      <td>1.350955e+01</td>\n",
       "      <td>4.852908e-01</td>\n",
       "    </tr>\n",
       "    <tr>\n",
       "      <th>min</th>\n",
       "      <td>1.000000e+00</td>\n",
       "      <td>0.000000e+00</td>\n",
       "      <td>5.000000e+00</td>\n",
       "      <td>1.000000e+01</td>\n",
       "      <td>0.000000e+00</td>\n",
       "      <td>0.000000e+00</td>\n",
       "      <td>0.000000e+00</td>\n",
       "    </tr>\n",
       "    <tr>\n",
       "      <th>25%</th>\n",
       "      <td>1.006001e+06</td>\n",
       "      <td>3.153050e+04</td>\n",
       "      <td>5.000000e+00</td>\n",
       "      <td>1.000000e+01</td>\n",
       "      <td>6.428454e-01</td>\n",
       "      <td>4.096735e-01</td>\n",
       "      <td>0.000000e+00</td>\n",
       "    </tr>\n",
       "    <tr>\n",
       "      <th>50%</th>\n",
       "      <td>2.012000e+06</td>\n",
       "      <td>6.305750e+04</td>\n",
       "      <td>2.000000e+01</td>\n",
       "      <td>2.000000e+01</td>\n",
       "      <td>1.308083e+00</td>\n",
       "      <td>4.377512e+00</td>\n",
       "      <td>1.000000e+00</td>\n",
       "    </tr>\n",
       "    <tr>\n",
       "      <th>75%</th>\n",
       "      <td>3.018000e+06</td>\n",
       "      <td>9.433325e+04</td>\n",
       "      <td>5.000000e+01</td>\n",
       "      <td>5.000000e+01</td>\n",
       "      <td>1.965240e+00</td>\n",
       "      <td>4.983472e+00</td>\n",
       "      <td>1.000000e+00</td>\n",
       "    </tr>\n",
       "    <tr>\n",
       "      <th>max</th>\n",
       "      <td>4.024000e+06</td>\n",
       "      <td>1.257480e+05</td>\n",
       "      <td>5.000000e+01</td>\n",
       "      <td>5.000000e+01</td>\n",
       "      <td>2.935203e+00</td>\n",
       "      <td>1.000000e+02</td>\n",
       "      <td>1.000000e+00</td>\n",
       "    </tr>\n",
       "  </tbody>\n",
       "</table>\n",
       "</div>"
      ],
      "text/plain": [
       "                 id     breath_id             R             C     time_step  \\\n",
       "count  4.024000e+06  4.024000e+06  4.024000e+06  4.024000e+06  4.024000e+06   \n",
       "mean   2.012000e+06  6.292796e+04  2.710785e+01  2.607038e+01  1.307083e+00   \n",
       "std    1.161629e+06  3.624924e+04  1.954281e+01  1.717103e+01  7.658902e-01   \n",
       "min    1.000000e+00  0.000000e+00  5.000000e+00  1.000000e+01  0.000000e+00   \n",
       "25%    1.006001e+06  3.153050e+04  5.000000e+00  1.000000e+01  6.428454e-01   \n",
       "50%    2.012000e+06  6.305750e+04  2.000000e+01  2.000000e+01  1.308083e+00   \n",
       "75%    3.018000e+06  9.433325e+04  5.000000e+01  5.000000e+01  1.965240e+00   \n",
       "max    4.024000e+06  1.257480e+05  5.000000e+01  5.000000e+01  2.935203e+00   \n",
       "\n",
       "               u_in         u_out  \n",
       "count  4.024000e+06  4.024000e+06  \n",
       "mean   7.338098e+00  6.203864e-01  \n",
       "std    1.350955e+01  4.852908e-01  \n",
       "min    0.000000e+00  0.000000e+00  \n",
       "25%    4.096735e-01  0.000000e+00  \n",
       "50%    4.377512e+00  1.000000e+00  \n",
       "75%    4.983472e+00  1.000000e+00  \n",
       "max    1.000000e+02  1.000000e+00  "
      ]
     },
     "execution_count": 14,
     "metadata": {},
     "output_type": "execute_result"
    }
   ],
   "source": [
    "test.describe()"
   ]
  },
  {
   "cell_type": "code",
   "execution_count": 15,
   "id": "3bf29f60",
   "metadata": {
    "execution": {
     "iopub.execute_input": "2021-10-02T10:26:39.185569Z",
     "iopub.status.busy": "2021-10-02T10:26:39.184879Z",
     "iopub.status.idle": "2021-10-02T10:26:39.238451Z",
     "shell.execute_reply": "2021-10-02T10:26:39.237771Z",
     "shell.execute_reply.started": "2021-09-24T05:43:21.999048Z"
    },
    "papermill": {
     "duration": 0.099764,
     "end_time": "2021-10-02T10:26:39.238596",
     "exception": false,
     "start_time": "2021-10-02T10:26:39.138832",
     "status": "completed"
    },
    "tags": []
   },
   "outputs": [
    {
     "data": {
      "text/plain": [
       "id           0\n",
       "breath_id    0\n",
       "R            0\n",
       "C            0\n",
       "time_step    0\n",
       "u_in         0\n",
       "u_out        0\n",
       "dtype: int64"
      ]
     },
     "execution_count": 15,
     "metadata": {},
     "output_type": "execute_result"
    }
   ],
   "source": [
    "test.isna().sum()"
   ]
  },
  {
   "cell_type": "code",
   "execution_count": 16,
   "id": "265cd5cf",
   "metadata": {
    "execution": {
     "iopub.execute_input": "2021-10-02T10:26:39.328076Z",
     "iopub.status.busy": "2021-10-02T10:26:39.327462Z",
     "iopub.status.idle": "2021-10-02T10:26:40.778193Z",
     "shell.execute_reply": "2021-10-02T10:26:40.778669Z",
     "shell.execute_reply.started": "2021-09-24T05:43:22.92689Z"
    },
    "papermill": {
     "duration": 1.498206,
     "end_time": "2021-10-02T10:26:40.778847",
     "exception": false,
     "start_time": "2021-10-02T10:26:39.280641",
     "status": "completed"
    },
    "tags": []
   },
   "outputs": [
    {
     "data": {
      "text/html": [
       "<div>\n",
       "<style scoped>\n",
       "    .dataframe tbody tr th:only-of-type {\n",
       "        vertical-align: middle;\n",
       "    }\n",
       "\n",
       "    .dataframe tbody tr th {\n",
       "        vertical-align: top;\n",
       "    }\n",
       "\n",
       "    .dataframe thead th {\n",
       "        text-align: right;\n",
       "    }\n",
       "</style>\n",
       "<table border=\"1\" class=\"dataframe\">\n",
       "  <thead>\n",
       "    <tr style=\"text-align: right;\">\n",
       "      <th></th>\n",
       "      <th>0</th>\n",
       "    </tr>\n",
       "  </thead>\n",
       "  <tbody>\n",
       "    <tr>\n",
       "      <th>id</th>\n",
       "      <td>4024000</td>\n",
       "    </tr>\n",
       "    <tr>\n",
       "      <th>breath_id</th>\n",
       "      <td>50300</td>\n",
       "    </tr>\n",
       "    <tr>\n",
       "      <th>R</th>\n",
       "      <td>3</td>\n",
       "    </tr>\n",
       "    <tr>\n",
       "      <th>C</th>\n",
       "      <td>3</td>\n",
       "    </tr>\n",
       "    <tr>\n",
       "      <th>time_step</th>\n",
       "      <td>2855528</td>\n",
       "    </tr>\n",
       "    <tr>\n",
       "      <th>u_in</th>\n",
       "      <td>2787822</td>\n",
       "    </tr>\n",
       "    <tr>\n",
       "      <th>u_out</th>\n",
       "      <td>2</td>\n",
       "    </tr>\n",
       "  </tbody>\n",
       "</table>\n",
       "</div>"
      ],
      "text/plain": [
       "                 0\n",
       "id         4024000\n",
       "breath_id    50300\n",
       "R                3\n",
       "C                3\n",
       "time_step  2855528\n",
       "u_in       2787822\n",
       "u_out            2"
      ]
     },
     "execution_count": 16,
     "metadata": {},
     "output_type": "execute_result"
    }
   ],
   "source": [
    "test.nunique().to_frame()"
   ]
  },
  {
   "cell_type": "markdown",
   "id": "90f36d14",
   "metadata": {
    "papermill": {
     "duration": 0.042512,
     "end_time": "2021-10-02T10:26:40.864189",
     "exception": false,
     "start_time": "2021-10-02T10:26:40.821677",
     "status": "completed"
    },
    "tags": []
   },
   "source": [
    "# EDA"
   ]
  },
  {
   "cell_type": "code",
   "execution_count": 17,
   "id": "499f1e02",
   "metadata": {
    "execution": {
     "iopub.execute_input": "2021-10-02T10:26:40.974931Z",
     "iopub.status.busy": "2021-10-02T10:26:40.973913Z",
     "iopub.status.idle": "2021-10-02T10:26:42.105467Z",
     "shell.execute_reply": "2021-10-02T10:26:42.104530Z",
     "shell.execute_reply.started": "2021-09-24T05:43:25.899784Z"
    },
    "papermill": {
     "duration": 1.198827,
     "end_time": "2021-10-02T10:26:42.105617",
     "exception": false,
     "start_time": "2021-10-02T10:26:40.906790",
     "status": "completed"
    },
    "tags": []
   },
   "outputs": [
    {
     "data": {
      "image/png": "[encoded data removed]",
      "text/plain": [
       "<Figure size 1152x288 with 2 Axes>"
      ]
     },
     "metadata": {
      "needs_background": "light"
     },
     "output_type": "display_data"
    }
   ],
   "source": [
    "# R(indicating how restricted the airway is) counts\n",
    "fig, ax = plt.subplots(figsize = (16, 4))\n",
    "plt.subplot(1, 2, 1)\n",
    "sns.countplot(x='R', data = train)\n",
    "plt.title('R Counts in train');\n",
    "plt.subplot(1, 2, 2)\n",
    "sns.countplot(x='R', data = test)\n",
    "plt.title('R Counts in test');"
   ]
  },
  {
   "cell_type": "code",
   "execution_count": 18,
   "id": "0f26f214",
   "metadata": {
    "execution": {
     "iopub.execute_input": "2021-10-02T10:26:42.218671Z",
     "iopub.status.busy": "2021-10-02T10:26:42.215706Z",
     "iopub.status.idle": "2021-10-02T10:26:43.252915Z",
     "shell.execute_reply": "2021-10-02T10:26:43.252277Z",
     "shell.execute_reply.started": "2021-09-24T05:43:27.008464Z"
    },
    "papermill": {
     "duration": 1.104717,
     "end_time": "2021-10-02T10:26:43.253055",
     "exception": false,
     "start_time": "2021-10-02T10:26:42.148338",
     "status": "completed"
    },
    "tags": []
   },
   "outputs": [
    {
     "data": {
      "image/png": "[encoded data removed]",
      "text/plain": [
       "<Figure size 1152x288 with 2 Axes>"
      ]
     },
     "metadata": {
      "needs_background": "light"
     },
     "output_type": "display_data"
    }
   ],
   "source": [
    "# C(indicating how compliant the lung is) counts\n",
    "fig, ax = plt.subplots(figsize = (16, 4))\n",
    "plt.subplot(1, 2, 1)\n",
    "sns.countplot(x='C', data = train)\n",
    "plt.title('C Counts in train');\n",
    "plt.subplot(1, 2, 2)\n",
    "sns.countplot(x='C', data = test)\n",
    "plt.title('C Counts in test');"
   ]
  },
  {
   "cell_type": "code",
   "execution_count": 19,
   "id": "dd48cb43",
   "metadata": {
    "execution": {
     "iopub.execute_input": "2021-10-02T10:26:43.360330Z",
     "iopub.status.busy": "2021-10-02T10:26:43.359392Z",
     "iopub.status.idle": "2021-10-02T10:26:44.382700Z",
     "shell.execute_reply": "2021-10-02T10:26:44.382018Z",
     "shell.execute_reply.started": "2021-09-24T05:43:28.063556Z"
    },
    "papermill": {
     "duration": 1.08589,
     "end_time": "2021-10-02T10:26:44.382846",
     "exception": false,
     "start_time": "2021-10-02T10:26:43.296956",
     "status": "completed"
    },
    "tags": []
   },
   "outputs": [
    {
     "data": {
      "image/png": "[encoded data removed]",
      "text/plain": [
       "<Figure size 1152x288 with 2 Axes>"
      ]
     },
     "metadata": {
      "needs_background": "light"
     },
     "output_type": "display_data"
    }
   ],
   "source": [
    "# u_out represent the control input for the exploratory solenoid valve.\n",
    "fig, ax = plt.subplots(figsize = (16, 4))\n",
    "plt.subplot(1, 2, 1)\n",
    "sns.countplot(x='u_out', data = train)\n",
    "plt.title('u_out Counts in train');\n",
    "plt.subplot(1, 2, 2)\n",
    "sns.countplot(x='u_out', data = test)\n",
    "plt.title('u_out Counts in test');"
   ]
  },
  {
   "cell_type": "code",
   "execution_count": 20,
   "id": "23716cd0",
   "metadata": {
    "execution": {
     "iopub.execute_input": "2021-10-02T10:26:44.616429Z",
     "iopub.status.busy": "2021-10-02T10:26:44.604820Z",
     "iopub.status.idle": "2021-10-02T10:26:47.228713Z",
     "shell.execute_reply": "2021-10-02T10:26:47.229215Z",
     "shell.execute_reply.started": "2021-09-24T05:43:29.297093Z"
    },
    "papermill": {
     "duration": 2.797082,
     "end_time": "2021-10-02T10:26:47.229425",
     "exception": false,
     "start_time": "2021-10-02T10:26:44.432343",
     "status": "completed"
    },
    "tags": []
   },
   "outputs": [
    {
     "data": {
      "image/png": "[encoded data removed]",
      "text/plain": [
       "<Figure size 1152x288 with 2 Axes>"
      ]
     },
     "metadata": {
      "needs_background": "light"
     },
     "output_type": "display_data"
    }
   ],
   "source": [
    "plt.figure(figsize=(16, 4))\n",
    "plt.subplot(1,2,1)\n",
    "plt.hist(train['time_step'], bins=500, color = 'lightblue') \n",
    "plt.title('Train time steps')\n",
    "\n",
    "plt.subplot(1,2,2)\n",
    "plt.hist(test['time_step'], bins=500, color = 'salmon');\n",
    "plt.title('Test time steps');"
   ]
  },
  {
   "cell_type": "code",
   "execution_count": 21,
   "id": "444fb0a0",
   "metadata": {
    "execution": {
     "iopub.execute_input": "2021-10-02T10:26:47.344990Z",
     "iopub.status.busy": "2021-10-02T10:26:47.324574Z",
     "iopub.status.idle": "2021-10-02T10:26:48.355970Z",
     "shell.execute_reply": "2021-10-02T10:26:48.356464Z",
     "shell.execute_reply.started": "2021-09-24T05:43:31.931643Z"
    },
    "papermill": {
     "duration": 1.081216,
     "end_time": "2021-10-02T10:26:48.356645",
     "exception": false,
     "start_time": "2021-10-02T10:26:47.275429",
     "status": "completed"
    },
    "tags": []
   },
   "outputs": [
    {
     "data": {
      "image/png": "[encoded data removed]",
      "text/plain": [
       "<Figure size 1152x288 with 2 Axes>"
      ]
     },
     "metadata": {
      "needs_background": "light"
     },
     "output_type": "display_data"
    }
   ],
   "source": [
    "plt.figure(figsize=(16, 4))\n",
    "plt.subplot(1,2,1)\n",
    "plt.hist(train['u_in'], bins=100, color = 'lightblue') \n",
    "plt.title('Train control input for the inspiratory solenoid valve')\n",
    "\n",
    "plt.subplot(1,2,2)\n",
    "plt.hist(test['u_in'], bins=100, color = 'tomato');\n",
    "plt.title('Test control input for the inspiratory solenoid valve');"
   ]
  },
  {
   "cell_type": "code",
   "execution_count": 22,
   "id": "988001d8",
   "metadata": {
    "execution": {
     "iopub.execute_input": "2021-10-02T10:26:48.456422Z",
     "iopub.status.busy": "2021-10-02T10:26:48.455774Z",
     "iopub.status.idle": "2021-10-02T10:27:16.942604Z",
     "shell.execute_reply": "2021-10-02T10:27:16.942049Z",
     "shell.execute_reply.started": "2021-09-24T05:47:47.804906Z"
    },
    "papermill": {
     "duration": 28.536787,
     "end_time": "2021-10-02T10:27:16.942765",
     "exception": false,
     "start_time": "2021-10-02T10:26:48.405978",
     "status": "completed"
    },
    "tags": []
   },
   "outputs": [
    {
     "data": {
      "image/png": "[encoded data removed]",
      "text/plain": [
       "<Figure size 1008x504 with 1 Axes>"
      ]
     },
     "metadata": {
      "needs_background": "light"
     },
     "output_type": "display_data"
    }
   ],
   "source": [
    "# pressure distribution w.r.t u out\n",
    "fig, ax = plt.subplots(figsize=(14, 7))\n",
    "ax = sns.distplot(train.loc[train[\"u_out\"] == 0, \"pressure\"], ax=ax, label=\"u_out=0\", bins=500)\n",
    "ax = sns.distplot(train.loc[train[\"u_out\"] == 1, \"pressure\"], ax=ax, label=\"u_out=1\", bins=500)\n",
    "ax.legend(loc='upper right');"
   ]
  },
  {
   "cell_type": "code",
   "execution_count": 23,
   "id": "158c8c35",
   "metadata": {
    "execution": {
     "iopub.execute_input": "2021-10-02T10:27:17.188052Z",
     "iopub.status.busy": "2021-10-02T10:27:17.187350Z",
     "iopub.status.idle": "2021-10-02T10:27:48.066894Z",
     "shell.execute_reply": "2021-10-02T10:27:48.067403Z",
     "shell.execute_reply.started": "2021-09-24T05:49:37.71762Z"
    },
    "papermill": {
     "duration": 31.076579,
     "end_time": "2021-10-02T10:27:48.067576",
     "exception": false,
     "start_time": "2021-10-02T10:27:16.990997",
     "status": "completed"
    },
    "tags": []
   },
   "outputs": [
    {
     "data": {
      "image/png": "[encoded data removed]",
      "text/plain": [
       "<Figure size 1008x504 with 1 Axes>"
      ]
     },
     "metadata": {
      "needs_background": "light"
     },
     "output_type": "display_data"
    }
   ],
   "source": [
    "# pressur distribution w.r.t R\n",
    "fig, ax = plt.subplots(figsize=(14, 7))\n",
    "ax = sns.distplot(train.loc[train[\"R\"] == 5, \"pressure\"], ax=ax, label=\"R=5\", bins=500)\n",
    "ax = sns.distplot(train.loc[train[\"R\"] == 20, \"pressure\"], ax=ax, label=\"R=20\", bins=500)\n",
    "ax = sns.distplot(train.loc[train[\"R\"] == 50, \"pressure\"], ax=ax, label=\"R=50\", bins=500)\n",
    "ax.legend(loc='upper right');"
   ]
  },
  {
   "cell_type": "code",
   "execution_count": 24,
   "id": "f29b6030",
   "metadata": {
    "execution": {
     "iopub.execute_input": "2021-10-02T10:27:48.194935Z",
     "iopub.status.busy": "2021-10-02T10:27:48.191379Z",
     "iopub.status.idle": "2021-10-02T10:28:18.257654Z",
     "shell.execute_reply": "2021-10-02T10:28:18.258196Z",
     "shell.execute_reply.started": "2021-09-24T05:50:37.946072Z"
    },
    "papermill": {
     "duration": 30.140567,
     "end_time": "2021-10-02T10:28:18.258369",
     "exception": false,
     "start_time": "2021-10-02T10:27:48.117802",
     "status": "completed"
    },
    "tags": []
   },
   "outputs": [
    {
     "data": {
      "image/png": "[encoded data removed]",
      "text/plain": [
       "<Figure size 1008x504 with 1 Axes>"
      ]
     },
     "metadata": {
      "needs_background": "light"
     },
     "output_type": "display_data"
    }
   ],
   "source": [
    "# pressure distribution w.r.t C\n",
    "fig, ax = plt.subplots(figsize=(14, 7))\n",
    "ax = sns.distplot(train.loc[train[\"C\"] == 10, \"pressure\"], ax=ax, label=\"C=10\", bins=500)\n",
    "ax = sns.distplot(train.loc[train[\"C\"] == 20, \"pressure\"], ax=ax, label=\"C=20\", bins=500)\n",
    "ax = sns.distplot(train.loc[train[\"C\"] == 50, \"pressure\"], ax=ax, label=\"C=50\", bins=500)\n",
    "ax.legend(loc='upper right');"
   ]
  },
  {
   "cell_type": "markdown",
   "id": "1aefe0ac",
   "metadata": {
    "papermill": {
     "duration": 0.049565,
     "end_time": "2021-10-02T10:28:18.357871",
     "exception": false,
     "start_time": "2021-10-02T10:28:18.308306",
     "status": "completed"
    },
    "tags": []
   },
   "source": [
    "# Feature Engineering"
   ]
  },
  {
   "cell_type": "code",
   "execution_count": 25,
   "id": "6d4a357b",
   "metadata": {
    "execution": {
     "iopub.execute_input": "2021-10-02T10:28:18.468040Z",
     "iopub.status.busy": "2021-10-02T10:28:18.467372Z",
     "iopub.status.idle": "2021-10-02T10:28:23.302430Z",
     "shell.execute_reply": "2021-10-02T10:28:23.301886Z",
     "shell.execute_reply.started": "2021-09-24T05:55:00.774081Z"
    },
    "papermill": {
     "duration": 4.894882,
     "end_time": "2021-10-02T10:28:23.302583",
     "exception": false,
     "start_time": "2021-10-02T10:28:18.407701",
     "status": "completed"
    },
    "tags": []
   },
   "outputs": [],
   "source": [
    "# credit: https://www.kaggle.com/artgor/ventilator-pressure-prediction-eda-fe-and-models\n",
    "\n",
    "train['last_value_u_in'] = train.groupby('breath_id')['u_in'].transform('last')\n",
    "train['u_in_lag'] = train['u_in'].shift(1)\n",
    "train['u_out_lag'] = train['u_out'].shift(1)\n",
    "train['u_in_lag_back'] = train['u_in'].shift(-1)\n",
    "train['u_out_lag_back'] = train['u_out'].shift(-1)\n",
    "train = train.fillna(0)\n",
    "\n",
    "# max value of u_in and u_out for each breath\n",
    "train['breath_id__u_in__max'] = train.groupby(['breath_id'])['u_in'].transform('max')\n",
    "train['breath_id__u_out__max'] = train.groupby(['breath_id'])['u_out'].transform('max')\n",
    "\n",
    "# difference between consequitive values\n",
    "# IMPORTANT: need to rewrite it so that it is calculated only within separate breaths\n",
    "train['u_in_diff'] = train['u_in'] - train['u_in_lag']\n",
    "train['u_out_diff'] = train['u_out'] - train['u_out_lag']\n",
    "\n",
    "# difference between the current value of u_in and the max value within the breath\n",
    "train['breath_id__u_in__diffmax'] = train.groupby(['breath_id'])['u_in'].transform('max') - train['u_in']\n",
    "train['breath_id__u_in__diffmean'] = train.groupby(['breath_id'])['u_in'].transform('mean') - train['u_in']\n",
    "\n",
    "# OHE\n",
    "train = train.merge(pd.get_dummies(train['R'], prefix='R'), left_index=True, right_index=True).drop(['R'], axis=1)\n",
    "train = train.merge(pd.get_dummies(train['C'], prefix='C'), left_index=True, right_index=True).drop(['C'], axis=1)\n",
    "\n",
    "# https://www.kaggle.com/c/ventilator-pressure-prediction/discussion/273974\n",
    "train['u_in_cumsum'] = train.groupby(['breath_id'])['u_in'].cumsum()"
   ]
  },
  {
   "cell_type": "code",
   "execution_count": 26,
   "id": "5951a6af",
   "metadata": {
    "execution": {
     "iopub.execute_input": "2021-10-02T10:28:23.414402Z",
     "iopub.status.busy": "2021-10-02T10:28:23.413629Z",
     "iopub.status.idle": "2021-10-02T10:28:26.083052Z",
     "shell.execute_reply": "2021-10-02T10:28:26.083572Z",
     "shell.execute_reply.started": "2021-09-24T05:55:34.602816Z"
    },
    "papermill": {
     "duration": 2.731167,
     "end_time": "2021-10-02T10:28:26.083755",
     "exception": false,
     "start_time": "2021-10-02T10:28:23.352588",
     "status": "completed"
    },
    "tags": []
   },
   "outputs": [],
   "source": [
    "# all the same for the test data\n",
    "test['last_value_u_in'] = test.groupby('breath_id')['u_in'].transform('last')\n",
    "test['u_in_lag'] = test['u_in'].shift(1)\n",
    "test['u_out_lag'] = test['u_out'].shift(1)\n",
    "test['u_in_lag_back'] = test['u_in'].shift(-1)\n",
    "test['u_out_lag_back'] = test['u_out'].shift(-1)\n",
    "test = test.fillna(0)\n",
    "\n",
    "test['breath_id__u_in__max'] = test.groupby(['breath_id'])['u_in'].transform('max')\n",
    "test['breath_id__u_out__max'] = test.groupby(['breath_id'])['u_out'].transform('max')\n",
    "\n",
    "test['u_in_diff'] = test['u_in'] - test['u_in_lag']\n",
    "test['u_out_diff'] = test['u_out'] - test['u_out_lag']\n",
    "\n",
    "test['breath_id__u_in__diffmax'] = test.groupby(['breath_id'])['u_in'].transform('max') - test['u_in']\n",
    "test['breath_id__u_in__diffmean'] = test.groupby(['breath_id'])['u_in'].transform('mean') - test['u_in']\n",
    "\n",
    "test = test.merge(pd.get_dummies(test['R'], prefix='R'), left_index=True, right_index=True).drop(['R'], axis=1)\n",
    "test = test.merge(pd.get_dummies(test['C'], prefix='C'), left_index=True, right_index=True).drop(['C'], axis=1)\n",
    "\n",
    "test['u_in_cumsum'] = test.groupby(['breath_id'])['u_in'].cumsum()"
   ]
  },
  {
   "cell_type": "code",
   "execution_count": 27,
   "id": "07d443a6",
   "metadata": {
    "execution": {
     "iopub.execute_input": "2021-10-02T10:28:26.186782Z",
     "iopub.status.busy": "2021-10-02T10:28:26.185826Z",
     "iopub.status.idle": "2021-10-02T10:28:26.192104Z",
     "shell.execute_reply": "2021-10-02T10:28:26.191557Z",
     "shell.execute_reply.started": "2021-09-24T05:55:47.98113Z"
    },
    "papermill": {
     "duration": 0.059141,
     "end_time": "2021-10-02T10:28:26.192260",
     "exception": false,
     "start_time": "2021-10-02T10:28:26.133119",
     "status": "completed"
    },
    "tags": []
   },
   "outputs": [
    {
     "data": {
      "text/plain": [
       "((6036000, 24), (4024000, 23))"
      ]
     },
     "execution_count": 27,
     "metadata": {},
     "output_type": "execute_result"
    }
   ],
   "source": [
    "train.shape, test.shape"
   ]
  },
  {
   "cell_type": "markdown",
   "id": "1c8a8dba",
   "metadata": {
    "papermill": {
     "duration": 0.049731,
     "end_time": "2021-10-02T10:28:26.292277",
     "exception": false,
     "start_time": "2021-10-02T10:28:26.242546",
     "status": "completed"
    },
    "tags": []
   },
   "source": [
    "# Modeling"
   ]
  },
  {
   "cell_type": "code",
   "execution_count": 28,
   "id": "ab966576",
   "metadata": {
    "execution": {
     "iopub.execute_input": "2021-10-02T10:28:26.395418Z",
     "iopub.status.busy": "2021-10-02T10:28:26.394760Z",
     "iopub.status.idle": "2021-10-02T10:28:27.211519Z",
     "shell.execute_reply": "2021-10-02T10:28:27.210963Z",
     "shell.execute_reply.started": "2021-09-24T05:55:52.680956Z"
    },
    "papermill": {
     "duration": 0.869134,
     "end_time": "2021-10-02T10:28:27.211673",
     "exception": false,
     "start_time": "2021-10-02T10:28:26.342539",
     "status": "completed"
    },
    "tags": []
   },
   "outputs": [],
   "source": [
    "train.drop(['id', 'breath_id'], axis = 1, inplace = True)"
   ]
  },
  {
   "cell_type": "code",
   "execution_count": 29,
   "id": "bd161282",
   "metadata": {
    "execution": {
     "iopub.execute_input": "2021-10-02T10:28:27.315098Z",
     "iopub.status.busy": "2021-10-02T10:28:27.314507Z",
     "iopub.status.idle": "2021-10-02T10:28:27.602691Z",
     "shell.execute_reply": "2021-10-02T10:28:27.603193Z",
     "shell.execute_reply.started": "2021-09-24T05:55:54.731203Z"
    },
    "papermill": {
     "duration": 0.34145,
     "end_time": "2021-10-02T10:28:27.603365",
     "exception": false,
     "start_time": "2021-10-02T10:28:27.261915",
     "status": "completed"
    },
    "tags": []
   },
   "outputs": [],
   "source": [
    "# dependent and independent features\n",
    "x = train.drop(['pressure'], axis = 1)\n",
    "y = train['pressure']"
   ]
  },
  {
   "cell_type": "code",
   "execution_count": 30,
   "id": "66695b89",
   "metadata": {
    "execution": {
     "iopub.execute_input": "2021-10-02T10:28:27.706451Z",
     "iopub.status.busy": "2021-10-02T10:28:27.705834Z",
     "iopub.status.idle": "2021-10-02T10:28:29.984848Z",
     "shell.execute_reply": "2021-10-02T10:28:29.984303Z",
     "shell.execute_reply.started": "2021-09-24T05:57:08.853853Z"
    },
    "papermill": {
     "duration": 2.332077,
     "end_time": "2021-10-02T10:28:29.984998",
     "exception": false,
     "start_time": "2021-10-02T10:28:27.652921",
     "status": "completed"
    },
    "tags": []
   },
   "outputs": [],
   "source": [
    "#splitting the dataset into train and test set.\n",
    "from sklearn.model_selection import train_test_split\n",
    "x_train,x_test,y_train,y_test = train_test_split(x,y,random_state = 31)"
   ]
  },
  {
   "cell_type": "code",
   "execution_count": 31,
   "id": "929f5364",
   "metadata": {
    "execution": {
     "iopub.execute_input": "2021-10-02T10:28:30.091304Z",
     "iopub.status.busy": "2021-10-02T10:28:30.090619Z",
     "iopub.status.idle": "2021-10-02T10:28:30.096767Z",
     "shell.execute_reply": "2021-10-02T10:28:30.096286Z",
     "shell.execute_reply.started": "2021-09-24T05:57:12.548425Z"
    },
    "papermill": {
     "duration": 0.059854,
     "end_time": "2021-10-02T10:28:30.096902",
     "exception": false,
     "start_time": "2021-10-02T10:28:30.037048",
     "status": "completed"
    },
    "tags": []
   },
   "outputs": [
    {
     "data": {
      "text/plain": [
       "(4527000, 1509000, 4527000, 1509000)"
      ]
     },
     "execution_count": 31,
     "metadata": {},
     "output_type": "execute_result"
    }
   ],
   "source": [
    "len(x_train), len(x_test), len(y_train), len(y_test)"
   ]
  },
  {
   "cell_type": "code",
   "execution_count": 32,
   "id": "cf7d547f",
   "metadata": {
    "execution": {
     "iopub.execute_input": "2021-10-02T10:28:30.203432Z",
     "iopub.status.busy": "2021-10-02T10:28:30.202720Z",
     "iopub.status.idle": "2021-10-02T10:28:30.207222Z",
     "shell.execute_reply": "2021-10-02T10:28:30.207698Z",
     "shell.execute_reply.started": "2021-09-24T05:57:15.041531Z"
    },
    "papermill": {
     "duration": 0.059379,
     "end_time": "2021-10-02T10:28:30.207875",
     "exception": false,
     "start_time": "2021-10-02T10:28:30.148496",
     "status": "completed"
    },
    "tags": []
   },
   "outputs": [],
   "source": [
    "#model evaluation function\n",
    "from sklearn.metrics import r2_score, mean_absolute_error\n",
    "from sklearn.model_selection import cross_val_score\n",
    "\n",
    "def model_evaluate(y_true, y_pred):\n",
    "    r2 = r2_score(y_true, y_pred)\n",
    "    mae = mean_absolute_error(y_true, y_pred)\n",
    "    return r2, mae\n",
    "    "
   ]
  },
  {
   "cell_type": "code",
   "execution_count": 33,
   "id": "b3e0fc18",
   "metadata": {
    "execution": {
     "iopub.execute_input": "2021-10-02T10:28:30.312590Z",
     "iopub.status.busy": "2021-10-02T10:28:30.311928Z",
     "iopub.status.idle": "2021-10-02T11:30:01.884995Z",
     "shell.execute_reply": "2021-10-02T11:30:01.885667Z"
    },
    "papermill": {
     "duration": 3691.62747,
     "end_time": "2021-10-02T11:30:01.885971",
     "exception": false,
     "start_time": "2021-10-02T10:28:30.258501",
     "status": "completed"
    },
    "tags": []
   },
   "outputs": [
    {
     "data": {
      "text/html": [
       "<style type='text/css'>\n",
       ".datatable table.frame { margin-bottom: 0; }\n",
       ".datatable table.frame thead { border-bottom: none; }\n",
       ".datatable table.frame tr.coltypes td {  color: #FFFFFF;  line-height: 6px;  padding: 0 0.5em;}\n",
       ".datatable .bool    { background: #DDDD99; }\n",
       ".datatable .object  { background: #565656; }\n",
       ".datatable .int     { background: #5D9E5D; }\n",
       ".datatable .float   { background: #4040CC; }\n",
       ".datatable .str     { background: #CC4040; }\n",
       ".datatable .time    { background: #40CC40; }\n",
       ".datatable .row_index {  background: var(--jp-border-color3);  border-right: 1px solid var(--jp-border-color0);  color: var(--jp-ui-font-color3);  font-size: 9px;}\n",
       ".datatable .frame tbody td { text-align: left; }\n",
       ".datatable .frame tr.coltypes .row_index {  background: var(--jp-border-color0);}\n",
       ".datatable th:nth-child(2) { padding-left: 12px; }\n",
       ".datatable .hellipsis {  color: var(--jp-cell-editor-border-color);}\n",
       ".datatable .vellipsis {  background: var(--jp-layout-color0);  color: var(--jp-cell-editor-border-color);}\n",
       ".datatable .na {  color: var(--jp-cell-editor-border-color);  font-size: 80%;}\n",
       ".datatable .sp {  opacity: 0.25;}\n",
       ".datatable .footer { font-size: 9px; }\n",
       ".datatable .frame_dimensions {  background: var(--jp-border-color3);  border-top: 1px solid var(--jp-border-color0);  color: var(--jp-ui-font-color3);  display: inline-block;  opacity: 0.6;  padding: 1px 10px 1px 5px;}\n",
       "</style>\n"
      ],
      "text/plain": [
       "<IPython.core.display.HTML object>"
      ]
     },
     "metadata": {},
     "output_type": "display_data"
    },
    {
     "name": "stdout",
     "output_type": "stream",
     "text": [
      "[0.98507909 0.98533809 0.9849585 ]\n",
      "Cross val score: 0.9851252251385767\n",
      "R^2 score: 0.9865335655720536\n",
      "Mean Absolute Erro: 0.5062823881263516\n",
      "CPU times: user 3h 2min 32s, sys: 49.4 s, total: 3h 3min 21s\n",
      "Wall time: 1h 1min 31s\n"
     ]
    }
   ],
   "source": [
    "%%time\n",
    "import lightgbm as lgbm\n",
    "lgbm = lgbm.LGBMRegressor(objective=\"mae\",\n",
    "                        n_estimators=5000,\n",
    "                        num_leaves=31,\n",
    "                        random_state=2021,\n",
    "                        importance_type=\"gain\",\n",
    "                        colsample_bytree=0.3,\n",
    "                        learning_rate=0.5).fit(x_train, y_train)\n",
    "cv_r2 = cross_val_score(lgbm, x_train, y_train, cv = 3)\n",
    "print(cv_r2)\n",
    "y_preds = lgbm.predict(x_test)\n",
    "cv_r2 = np.mean(cv_r2)\n",
    "print(\"Cross val score: \" + str(cv_r2))\n",
    "r2, mae = model_evaluate(y_test, y_preds)\n",
    "print(\"R^2 score: \" + str(r2))\n",
    "print(\"Mean Absolute Erro: \" + str(mae))"
   ]
  },
  {
   "cell_type": "markdown",
   "id": "f2dfb182",
   "metadata": {
    "papermill": {
     "duration": 0.05327,
     "end_time": "2021-10-02T11:30:01.992305",
     "exception": false,
     "start_time": "2021-10-02T11:30:01.939035",
     "status": "completed"
    },
    "tags": []
   },
   "source": [
    "# Preparing to predict"
   ]
  },
  {
   "cell_type": "code",
   "execution_count": 34,
   "id": "3b7f11ac",
   "metadata": {
    "execution": {
     "iopub.execute_input": "2021-10-02T11:30:02.105658Z",
     "iopub.status.busy": "2021-10-02T11:30:02.104662Z",
     "iopub.status.idle": "2021-10-02T11:30:02.759061Z",
     "shell.execute_reply": "2021-10-02T11:30:02.759614Z",
     "shell.execute_reply.started": "2021-09-23T19:34:51.225805Z"
    },
    "papermill": {
     "duration": 0.715333,
     "end_time": "2021-10-02T11:30:02.759791",
     "exception": false,
     "start_time": "2021-10-02T11:30:02.044458",
     "status": "completed"
    },
    "tags": []
   },
   "outputs": [],
   "source": [
    "test_df = test.drop(['id', 'breath_id'], axis = 1)"
   ]
  },
  {
   "cell_type": "code",
   "execution_count": 35,
   "id": "3149b3ad",
   "metadata": {
    "execution": {
     "iopub.execute_input": "2021-10-02T11:30:02.869116Z",
     "iopub.status.busy": "2021-10-02T11:30:02.868106Z",
     "iopub.status.idle": "2021-10-02T11:30:02.906443Z",
     "shell.execute_reply": "2021-10-02T11:30:02.907037Z",
     "shell.execute_reply.started": "2021-09-23T19:34:53.289078Z"
    },
    "papermill": {
     "duration": 0.095276,
     "end_time": "2021-10-02T11:30:02.907243",
     "exception": false,
     "start_time": "2021-10-02T11:30:02.811967",
     "status": "completed"
    },
    "tags": []
   },
   "outputs": [
    {
     "data": {
      "text/html": [
       "<div>\n",
       "<style scoped>\n",
       "    .dataframe tbody tr th:only-of-type {\n",
       "        vertical-align: middle;\n",
       "    }\n",
       "\n",
       "    .dataframe tbody tr th {\n",
       "        vertical-align: top;\n",
       "    }\n",
       "\n",
       "    .dataframe thead th {\n",
       "        text-align: right;\n",
       "    }\n",
       "</style>\n",
       "<table border=\"1\" class=\"dataframe\">\n",
       "  <thead>\n",
       "    <tr style=\"text-align: right;\">\n",
       "      <th></th>\n",
       "      <th>time_step</th>\n",
       "      <th>u_in</th>\n",
       "      <th>u_out</th>\n",
       "      <th>last_value_u_in</th>\n",
       "      <th>u_in_lag</th>\n",
       "      <th>u_out_lag</th>\n",
       "      <th>u_in_lag_back</th>\n",
       "      <th>u_out_lag_back</th>\n",
       "      <th>breath_id__u_in__max</th>\n",
       "      <th>breath_id__u_out__max</th>\n",
       "      <th>...</th>\n",
       "      <th>u_out_diff</th>\n",
       "      <th>breath_id__u_in__diffmax</th>\n",
       "      <th>breath_id__u_in__diffmean</th>\n",
       "      <th>R_5</th>\n",
       "      <th>R_20</th>\n",
       "      <th>R_50</th>\n",
       "      <th>C_10</th>\n",
       "      <th>C_20</th>\n",
       "      <th>C_50</th>\n",
       "      <th>u_in_cumsum</th>\n",
       "    </tr>\n",
       "  </thead>\n",
       "  <tbody>\n",
       "    <tr>\n",
       "      <th>0</th>\n",
       "      <td>0.000000</td>\n",
       "      <td>0.000000</td>\n",
       "      <td>0</td>\n",
       "      <td>4.973375</td>\n",
       "      <td>0.000000</td>\n",
       "      <td>0.0</td>\n",
       "      <td>7.515046</td>\n",
       "      <td>0.0</td>\n",
       "      <td>37.542219</td>\n",
       "      <td>1</td>\n",
       "      <td>...</td>\n",
       "      <td>0.0</td>\n",
       "      <td>37.542219</td>\n",
       "      <td>9.327338</td>\n",
       "      <td>1</td>\n",
       "      <td>0</td>\n",
       "      <td>0</td>\n",
       "      <td>0</td>\n",
       "      <td>1</td>\n",
       "      <td>0</td>\n",
       "      <td>0.000000</td>\n",
       "    </tr>\n",
       "    <tr>\n",
       "      <th>1</th>\n",
       "      <td>0.031904</td>\n",
       "      <td>7.515046</td>\n",
       "      <td>0</td>\n",
       "      <td>4.973375</td>\n",
       "      <td>0.000000</td>\n",
       "      <td>0.0</td>\n",
       "      <td>14.651675</td>\n",
       "      <td>0.0</td>\n",
       "      <td>37.542219</td>\n",
       "      <td>1</td>\n",
       "      <td>...</td>\n",
       "      <td>0.0</td>\n",
       "      <td>30.027173</td>\n",
       "      <td>1.812292</td>\n",
       "      <td>1</td>\n",
       "      <td>0</td>\n",
       "      <td>0</td>\n",
       "      <td>0</td>\n",
       "      <td>1</td>\n",
       "      <td>0</td>\n",
       "      <td>7.515046</td>\n",
       "    </tr>\n",
       "    <tr>\n",
       "      <th>2</th>\n",
       "      <td>0.063827</td>\n",
       "      <td>14.651675</td>\n",
       "      <td>0</td>\n",
       "      <td>4.973375</td>\n",
       "      <td>7.515046</td>\n",
       "      <td>0.0</td>\n",
       "      <td>21.230610</td>\n",
       "      <td>0.0</td>\n",
       "      <td>37.542219</td>\n",
       "      <td>1</td>\n",
       "      <td>...</td>\n",
       "      <td>0.0</td>\n",
       "      <td>22.890543</td>\n",
       "      <td>-5.324338</td>\n",
       "      <td>1</td>\n",
       "      <td>0</td>\n",
       "      <td>0</td>\n",
       "      <td>0</td>\n",
       "      <td>1</td>\n",
       "      <td>0</td>\n",
       "      <td>22.166721</td>\n",
       "    </tr>\n",
       "    <tr>\n",
       "      <th>3</th>\n",
       "      <td>0.095751</td>\n",
       "      <td>21.230610</td>\n",
       "      <td>0</td>\n",
       "      <td>4.973375</td>\n",
       "      <td>14.651675</td>\n",
       "      <td>0.0</td>\n",
       "      <td>26.320956</td>\n",
       "      <td>0.0</td>\n",
       "      <td>37.542219</td>\n",
       "      <td>1</td>\n",
       "      <td>...</td>\n",
       "      <td>0.0</td>\n",
       "      <td>16.311609</td>\n",
       "      <td>-11.903272</td>\n",
       "      <td>1</td>\n",
       "      <td>0</td>\n",
       "      <td>0</td>\n",
       "      <td>0</td>\n",
       "      <td>1</td>\n",
       "      <td>0</td>\n",
       "      <td>43.397331</td>\n",
       "    </tr>\n",
       "    <tr>\n",
       "      <th>4</th>\n",
       "      <td>0.127644</td>\n",
       "      <td>26.320956</td>\n",
       "      <td>0</td>\n",
       "      <td>4.973375</td>\n",
       "      <td>21.230610</td>\n",
       "      <td>0.0</td>\n",
       "      <td>30.486938</td>\n",
       "      <td>0.0</td>\n",
       "      <td>37.542219</td>\n",
       "      <td>1</td>\n",
       "      <td>...</td>\n",
       "      <td>0.0</td>\n",
       "      <td>11.221263</td>\n",
       "      <td>-16.993619</td>\n",
       "      <td>1</td>\n",
       "      <td>0</td>\n",
       "      <td>0</td>\n",
       "      <td>0</td>\n",
       "      <td>1</td>\n",
       "      <td>0</td>\n",
       "      <td>69.718287</td>\n",
       "    </tr>\n",
       "  </tbody>\n",
       "</table>\n",
       "<p>5 rows × 21 columns</p>\n",
       "</div>"
      ],
      "text/plain": [
       "   time_step       u_in  u_out  last_value_u_in   u_in_lag  u_out_lag  \\\n",
       "0   0.000000   0.000000      0         4.973375   0.000000        0.0   \n",
       "1   0.031904   7.515046      0         4.973375   0.000000        0.0   \n",
       "2   0.063827  14.651675      0         4.973375   7.515046        0.0   \n",
       "3   0.095751  21.230610      0         4.973375  14.651675        0.0   \n",
       "4   0.127644  26.320956      0         4.973375  21.230610        0.0   \n",
       "\n",
       "   u_in_lag_back  u_out_lag_back  breath_id__u_in__max  breath_id__u_out__max  \\\n",
       "0       7.515046             0.0             37.542219                      1   \n",
       "1      14.651675             0.0             37.542219                      1   \n",
       "2      21.230610             0.0             37.542219                      1   \n",
       "3      26.320956             0.0             37.542219                      1   \n",
       "4      30.486938             0.0             37.542219                      1   \n",
       "\n",
       "   ...  u_out_diff  breath_id__u_in__diffmax  breath_id__u_in__diffmean  R_5  \\\n",
       "0  ...         0.0                 37.542219                   9.327338    1   \n",
       "1  ...         0.0                 30.027173                   1.812292    1   \n",
       "2  ...         0.0                 22.890543                  -5.324338    1   \n",
       "3  ...         0.0                 16.311609                 -11.903272    1   \n",
       "4  ...         0.0                 11.221263                 -16.993619    1   \n",
       "\n",
       "   R_20  R_50  C_10  C_20  C_50  u_in_cumsum  \n",
       "0     0     0     0     1     0     0.000000  \n",
       "1     0     0     0     1     0     7.515046  \n",
       "2     0     0     0     1     0    22.166721  \n",
       "3     0     0     0     1     0    43.397331  \n",
       "4     0     0     0     1     0    69.718287  \n",
       "\n",
       "[5 rows x 21 columns]"
      ]
     },
     "execution_count": 35,
     "metadata": {},
     "output_type": "execute_result"
    }
   ],
   "source": [
    "test_df.head()"
   ]
  },
  {
   "cell_type": "code",
   "execution_count": 36,
   "id": "f60c5634",
   "metadata": {
    "execution": {
     "iopub.execute_input": "2021-10-02T11:30:03.018223Z",
     "iopub.status.busy": "2021-10-02T11:30:03.017035Z",
     "iopub.status.idle": "2021-10-02T11:37:11.850701Z",
     "shell.execute_reply": "2021-10-02T11:37:11.851290Z",
     "shell.execute_reply.started": "2021-09-23T19:35:04.61582Z"
    },
    "papermill": {
     "duration": 428.891625,
     "end_time": "2021-10-02T11:37:11.851520",
     "exception": false,
     "start_time": "2021-10-02T11:30:02.959895",
     "status": "completed"
    },
    "tags": []
   },
   "outputs": [],
   "source": [
    "preds = lgbm.predict(test_df)"
   ]
  },
  {
   "cell_type": "code",
   "execution_count": 37,
   "id": "445aee14",
   "metadata": {
    "execution": {
     "iopub.execute_input": "2021-10-02T11:37:11.965017Z",
     "iopub.status.busy": "2021-10-02T11:37:11.964125Z",
     "iopub.status.idle": "2021-10-02T11:37:11.967588Z",
     "shell.execute_reply": "2021-10-02T11:37:11.968173Z",
     "shell.execute_reply.started": "2021-09-23T19:35:30.142479Z"
    },
    "papermill": {
     "duration": 0.062282,
     "end_time": "2021-10-02T11:37:11.968358",
     "exception": false,
     "start_time": "2021-10-02T11:37:11.906076",
     "status": "completed"
    },
    "tags": []
   },
   "outputs": [
    {
     "data": {
      "text/plain": [
       "array([ 6.64179864,  5.97440109,  6.97114964,  8.16981104,  9.33321566,\n",
       "       11.40494855, 11.25089425, 12.96520412, 14.18883758, 14.99863702])"
      ]
     },
     "execution_count": 37,
     "metadata": {},
     "output_type": "execute_result"
    }
   ],
   "source": [
    "preds[:10]"
   ]
  },
  {
   "cell_type": "code",
   "execution_count": 38,
   "id": "78aaba1b",
   "metadata": {
    "execution": {
     "iopub.execute_input": "2021-10-02T11:37:12.076932Z",
     "iopub.status.busy": "2021-10-02T11:37:12.076323Z",
     "iopub.status.idle": "2021-10-02T11:37:12.669170Z",
     "shell.execute_reply": "2021-10-02T11:37:12.669647Z",
     "shell.execute_reply.started": "2021-09-23T19:35:33.901094Z"
    },
    "papermill": {
     "duration": 0.648621,
     "end_time": "2021-10-02T11:37:12.669819",
     "exception": false,
     "start_time": "2021-10-02T11:37:12.021198",
     "status": "completed"
    },
    "tags": []
   },
   "outputs": [
    {
     "data": {
      "text/html": [
       "<div>\n",
       "<style scoped>\n",
       "    .dataframe tbody tr th:only-of-type {\n",
       "        vertical-align: middle;\n",
       "    }\n",
       "\n",
       "    .dataframe tbody tr th {\n",
       "        vertical-align: top;\n",
       "    }\n",
       "\n",
       "    .dataframe thead th {\n",
       "        text-align: right;\n",
       "    }\n",
       "</style>\n",
       "<table border=\"1\" class=\"dataframe\">\n",
       "  <thead>\n",
       "    <tr style=\"text-align: right;\">\n",
       "      <th></th>\n",
       "      <th>id</th>\n",
       "      <th>pressure</th>\n",
       "    </tr>\n",
       "  </thead>\n",
       "  <tbody>\n",
       "    <tr>\n",
       "      <th>0</th>\n",
       "      <td>1</td>\n",
       "      <td>6.641799</td>\n",
       "    </tr>\n",
       "    <tr>\n",
       "      <th>1</th>\n",
       "      <td>2</td>\n",
       "      <td>5.974401</td>\n",
       "    </tr>\n",
       "    <tr>\n",
       "      <th>2</th>\n",
       "      <td>3</td>\n",
       "      <td>6.971150</td>\n",
       "    </tr>\n",
       "    <tr>\n",
       "      <th>3</th>\n",
       "      <td>4</td>\n",
       "      <td>8.169811</td>\n",
       "    </tr>\n",
       "    <tr>\n",
       "      <th>4</th>\n",
       "      <td>5</td>\n",
       "      <td>9.333216</td>\n",
       "    </tr>\n",
       "  </tbody>\n",
       "</table>\n",
       "</div>"
      ],
      "text/plain": [
       "   id  pressure\n",
       "0   1  6.641799\n",
       "1   2  5.974401\n",
       "2   3  6.971150\n",
       "3   4  8.169811\n",
       "4   5  9.333216"
      ]
     },
     "execution_count": 38,
     "metadata": {},
     "output_type": "execute_result"
    }
   ],
   "source": [
    "sub = pd.DataFrame()\n",
    "sub['id'] = test.id\n",
    "sub['pressure'] = preds\n",
    "sub.head()"
   ]
  },
  {
   "cell_type": "code",
   "execution_count": 39,
   "id": "ee00ec33",
   "metadata": {
    "execution": {
     "iopub.execute_input": "2021-10-02T11:37:12.778641Z",
     "iopub.status.busy": "2021-10-02T11:37:12.778035Z",
     "iopub.status.idle": "2021-10-02T11:37:27.279845Z",
     "shell.execute_reply": "2021-10-02T11:37:27.280394Z",
     "shell.execute_reply.started": "2021-09-23T19:35:35.95805Z"
    },
    "papermill": {
     "duration": 14.55809,
     "end_time": "2021-10-02T11:37:27.280576",
     "exception": false,
     "start_time": "2021-10-02T11:37:12.722486",
     "status": "completed"
    },
    "tags": []
   },
   "outputs": [],
   "source": [
    "sub.to_csv('submission.csv', index=False)"
   ]
  }
 ],
 "metadata": {
  "kernelspec": {
   "display_name": "Python 3",
   "language": "python",
   "name": "python3"
  },
  "language_info": {
   "codemirror_mode": {
    "name": "ipython",
    "version": 3
   },
   "file_extension": ".py",
   "mimetype": "text/x-python",
   "name": "python",
   "nbconvert_exporter": "python",
   "pygments_lexer": "ipython3",
   "version": "3.7.10"
  },
  "papermill": {
   "default_parameters": {},
   "duration": 4278.860061,
   "end_time": "2021-10-02T11:37:28.783798",
   "environment_variables": {},
   "exception": null,
   "input_path": "__notebook__.ipynb",
   "output_path": "__notebook__.ipynb",
   "parameters": {},
   "start_time": "2021-10-02T10:26:09.923737",
   "version": "2.3.3"
  }
 },
 "nbformat": 4,
 "nbformat_minor": 5
}
